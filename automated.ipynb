{
 "cells": [
  {
   "cell_type": "markdown",
   "id": "160f7942-32b1-4eb1-9ae4-41aae7150ed3",
   "metadata": {},
   "source": [
    "# Automated Data Collection (no manual map change)\n",
    "\n",
    "The original method used in this package required a manual map change between base and annotated collection. This notebook forgoes this manual change. For explanation on the methods used, please see `bngseg.ipynb`.\n",
    "\n",
    "The biggest change in this notebook is saving between switching maps, so progress is not lost due to simulator bugs between switching scenarios."
   ]
  },
  {
   "cell_type": "code",
   "execution_count": null,
   "id": "0203d340-0849-4899-8e38-d4cfecf16229",
   "metadata": {},
   "outputs": [],
   "source": [
    "# setup\n",
    "from beamngpy import BeamNgpy, Scenario, Vehicle\n",
    "from beamngpy.sensors import Camera\n",
    "from pathlib import Path\n",
    "from tqdm.auto import tqdm\n",
    "\n",
    "from bngseg.annotation import AnnotationScenario, AnnotationCar, CameraPosition\n",
    "import bngseg\n",
    "\n",
    "home_dir = r'C:\\Users\\jazzy\\Desktop\\BeamNG' # change this to correct directory\n",
    "user_dir = r'C:\\Users\\jazzy\\Desktop\\BeamNG' # change this to correct directory\n",
    "\n",
    "bng = util.quick_start(home_dir, user_dir)"
   ]
  },
  {
   "cell_type": "code",
   "execution_count": null,
   "id": "2322ab28-8abc-4f55-870d-99964fefb443",
   "metadata": {},
   "outputs": [],
   "source": [
    "# variables\n",
    "points_bank = {\n",
    "    \"rb_ks_monza\": [(-177.105, -107.766, 154.945)]\n",
    "}\n",
    "\n",
    "n = 2 # per car per scenario\n",
    "scenarios = [\n",
    "    AnnotationScenario(\n",
    "        \"rb_ks_monza\", \n",
    "        \"rb_ks_monza_annotated\", [\n",
    "            AnnotationCar(\n",
    "                '2022__4_navaro_ssr_700_indycar', \n",
    "                [\n",
    "                    CameraPosition((-0.3, 1, 2), (0, -1, 0), (0, 0, 1)),\n",
    "                ]\n",
    "            ),\n",
    "        ],\n",
    "        [generate_random_point(points_bank[\"rb_ks_monza\"]) for _ in range(n)],\n",
    "    ),\n",
    "]"
   ]
  },
  {
   "cell_type": "markdown",
   "id": "eb71ad73-2104-4c4f-a0b0-08389af613f4",
   "metadata": {},
   "source": [
    "## Ensure annotation works"
   ]
  },
  {
   "cell_type": "code",
   "execution_count": null,
   "id": "240d9483-78d2-4475-8b36-a59f0353a72b",
   "metadata": {},
   "outputs": [],
   "source": [
    "test = scenarios[0]\n",
    "test, car = bng.quick_scenario(bng, test.base_map, scenarios.cars[0].car_model, test.locations[0][0], test.locations[0][1])\n",
    "camera = test_car.attach_cameras([((-0.3, 1, 2), (0, -1, 0))], car)[0]\n",
    "bngseg.poll_and_show_images(camera)"
   ]
  }
 ],
 "metadata": {
  "kernelspec": {
   "display_name": "Python 3 (ipykernel)",
   "language": "python",
   "name": "python3"
  },
  "language_info": {
   "codemirror_mode": {
    "name": "ipython",
    "version": 3
   },
   "file_extension": ".py",
   "mimetype": "text/x-python",
   "name": "python",
   "nbconvert_exporter": "python",
   "pygments_lexer": "ipython3",
   "version": "3.9.12"
  }
 },
 "nbformat": 4,
 "nbformat_minor": 5
}
