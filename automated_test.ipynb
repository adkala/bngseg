{
 "cells": [
  {
   "cell_type": "markdown",
   "id": "f8c4dc5d-6af0-4e1f-a482-2a9b87045822",
   "metadata": {},
   "source": [
    "# Automated Data Collection (no manual map change) -- BROKEN\n",
    "\n",
    "The original method used in this package required a manual map change between base and annotated collection. This notebook forgoes this manual change. For explanation on the methods used, please see `bngseg.ipynb`."
   ]
  },
  {
   "cell_type": "code",
   "execution_count": 39,
   "id": "ea0d8176-f842-4d41-9598-2a11a461675b",
   "metadata": {},
   "outputs": [],
   "source": [
    "# setup\n",
    "from beamngpy import BeamNgpy, Scenario, Vehicle\n",
    "from beamngpy.sensors import Camera\n",
    "from pathlib import Path\n",
    "from tqdm.auto import tqdm\n",
    "\n",
    "from bngseg.annotation import AnnotationScenario, AnnotationCar, CameraPosition\n",
    "import bngseg\n",
    "\n",
    "home_dir = r'C:\\Users\\jazzy\\Desktop\\BeamNG' # change this to correct directory\n",
    "user_dir = r'C:\\Users\\jazzy\\Desktop\\BeamNG' # change this to correct directory\n",
    "\n",
    "bng = util.quick_start(home_dir, user_dir)"
   ]
  },
  {
   "cell_type": "code",
   "execution_count": 32,
   "id": "61193c0f-23ca-480e-865d-328d71164ff8",
   "metadata": {},
   "outputs": [],
   "source": [
    "import random\n",
    "def generate_random_point(points, radius=4):  # not optimized\n",
    "    \"\"\"Generate random point within a given radius from any point within points list.\"\"\"\n",
    "    point = random.choice(points)\n",
    "    offsets = (random.uniform(-radius, radius), random.uniform(-radius, radius), 0.5)\n",
    "    rot_quat = (0, 0, 0, 0)\n",
    "    return (\n",
    "        point[0] + offsets[0],\n",
    "        point[1] + offsets[1],\n",
    "        point[2] + offsets[2],\n",
    "    ), rot_quat"
   ]
  },
  {
   "cell_type": "code",
   "execution_count": 34,
   "id": "b5a09eec-2c95-49b2-8914-1c23c822dee9",
   "metadata": {},
   "outputs": [
    {
     "ename": "TypeError",
     "evalue": "__init__() missing 1 required positional argument: 'cars'",
     "output_type": "error",
     "traceback": [
      "\u001b[0;31m---------------------------------------------------------------------------\u001b[0m",
      "\u001b[0;31mTypeError\u001b[0m                                 Traceback (most recent call last)",
      "Input \u001b[0;32mIn [34]\u001b[0m, in \u001b[0;36m<cell line: 8>\u001b[0;34m()\u001b[0m\n\u001b[1;32m      2\u001b[0m points_bank \u001b[38;5;241m=\u001b[39m {\n\u001b[1;32m      3\u001b[0m     \u001b[38;5;124m\"\u001b[39m\u001b[38;5;124mrb_ks_monza\u001b[39m\u001b[38;5;124m\"\u001b[39m: [(\u001b[38;5;241m-\u001b[39m\u001b[38;5;241m177.105\u001b[39m, \u001b[38;5;241m-\u001b[39m\u001b[38;5;241m107.766\u001b[39m, \u001b[38;5;241m154.945\u001b[39m)]\n\u001b[1;32m      4\u001b[0m }\n\u001b[1;32m      6\u001b[0m n \u001b[38;5;241m=\u001b[39m \u001b[38;5;241m10\u001b[39m \u001b[38;5;66;03m# per car per scenario\u001b[39;00m\n\u001b[1;32m      7\u001b[0m scenarios \u001b[38;5;241m=\u001b[39m [\n\u001b[0;32m----> 8\u001b[0m     \u001b[43mAnnotationScenario\u001b[49m\u001b[43m(\u001b[49m\n\u001b[1;32m      9\u001b[0m \u001b[43m        \u001b[49m\u001b[38;5;124;43m\"\u001b[39;49m\u001b[38;5;124;43mrb_ks_monza\u001b[39;49m\u001b[38;5;124;43m\"\u001b[39;49m\u001b[43m,\u001b[49m\u001b[43m \u001b[49m\n\u001b[1;32m     10\u001b[0m \u001b[43m        \u001b[49m\u001b[38;5;124;43m\"\u001b[39;49m\u001b[38;5;124;43mrb_ks_monza_annotated\u001b[39;49m\u001b[38;5;124;43m\"\u001b[39;49m\u001b[43m,\u001b[49m\u001b[43m \u001b[49m\u001b[43m[\u001b[49m\n\u001b[1;32m     11\u001b[0m \u001b[43m            \u001b[49m\u001b[43mAnnotationCar\u001b[49m\u001b[43m(\u001b[49m\n\u001b[1;32m     12\u001b[0m \u001b[43m                \u001b[49m\u001b[38;5;124;43m'\u001b[39;49m\u001b[38;5;124;43m2022__4_navaro_ssr_700_indycar\u001b[39;49m\u001b[38;5;124;43m'\u001b[39;49m\u001b[43m,\u001b[49m\u001b[43m \u001b[49m\n\u001b[1;32m     13\u001b[0m \u001b[43m                \u001b[49m\u001b[43m[\u001b[49m\n\u001b[1;32m     14\u001b[0m \u001b[43m                    \u001b[49m\u001b[43mCameraPosition\u001b[49m\u001b[43m(\u001b[49m\u001b[43m(\u001b[49m\u001b[38;5;241;43m-\u001b[39;49m\u001b[38;5;241;43m0.3\u001b[39;49m\u001b[43m,\u001b[49m\u001b[43m \u001b[49m\u001b[38;5;241;43m1\u001b[39;49m\u001b[43m,\u001b[49m\u001b[43m \u001b[49m\u001b[38;5;241;43m2\u001b[39;49m\u001b[43m)\u001b[49m\u001b[43m,\u001b[49m\u001b[43m \u001b[49m\u001b[43m(\u001b[49m\u001b[38;5;241;43m0\u001b[39;49m\u001b[43m,\u001b[49m\u001b[43m \u001b[49m\u001b[38;5;241;43m-\u001b[39;49m\u001b[38;5;241;43m1\u001b[39;49m\u001b[43m,\u001b[49m\u001b[43m \u001b[49m\u001b[38;5;241;43m0\u001b[39;49m\u001b[43m)\u001b[49m\u001b[43m,\u001b[49m\u001b[43m \u001b[49m\u001b[43m(\u001b[49m\u001b[38;5;241;43m0\u001b[39;49m\u001b[43m,\u001b[49m\u001b[43m \u001b[49m\u001b[38;5;241;43m0\u001b[39;49m\u001b[43m,\u001b[49m\u001b[43m \u001b[49m\u001b[38;5;241;43m1\u001b[39;49m\u001b[43m)\u001b[49m\u001b[43m)\u001b[49m\u001b[43m,\u001b[49m\n\u001b[1;32m     15\u001b[0m \u001b[43m                \u001b[49m\u001b[43m]\u001b[49m\n\u001b[1;32m     16\u001b[0m \u001b[43m            \u001b[49m\u001b[43m)\u001b[49m\u001b[43m,\u001b[49m\n\u001b[1;32m     17\u001b[0m \u001b[43m        \u001b[49m\u001b[43m]\u001b[49m\u001b[43m,\u001b[49m\n\u001b[1;32m     18\u001b[0m \u001b[43m        \u001b[49m\u001b[43m[\u001b[49m\u001b[43mgenerate_random_point\u001b[49m\u001b[43m(\u001b[49m\u001b[43mpoints_bank\u001b[49m\u001b[43m[\u001b[49m\u001b[38;5;124;43m\"\u001b[39;49m\u001b[38;5;124;43mrb_ks_monza\u001b[39;49m\u001b[38;5;124;43m\"\u001b[39;49m\u001b[43m]\u001b[49m\u001b[43m)\u001b[49m\u001b[43m \u001b[49m\u001b[38;5;28;43;01mfor\u001b[39;49;00m\u001b[43m \u001b[49m\u001b[43m_\u001b[49m\u001b[43m \u001b[49m\u001b[38;5;129;43;01min\u001b[39;49;00m\u001b[43m \u001b[49m\u001b[38;5;28;43mrange\u001b[39;49m\u001b[43m(\u001b[49m\u001b[43mn\u001b[49m\u001b[43m)\u001b[49m\u001b[43m]\u001b[49m\u001b[43m,\u001b[49m\n\u001b[1;32m     19\u001b[0m \u001b[43m    \u001b[49m\u001b[43m)\u001b[49m,\n\u001b[1;32m     20\u001b[0m ]\n",
      "\u001b[0;31mTypeError\u001b[0m: __init__() missing 1 required positional argument: 'cars'"
     ]
    }
   ],
   "source": [
    "# variables\n",
    "points_bank = {\n",
    "    \"rb_ks_monza\": [(-177.105, -107.766, 154.945)]\n",
    "}\n",
    "\n",
    "n = 10 # per car per scenario\n",
    "scenarios = [\n",
    "    AnnotationScenario(\n",
    "        \"rb_ks_monza\", \n",
    "        \"rb_ks_monza_annotated\", [\n",
    "            AnnotationCar(\n",
    "                '2022__4_navaro_ssr_700_indycar', \n",
    "                [\n",
    "                    CameraPosition((-0.3, 1, 2), (0, -1, 0), (0, 0, 1)),\n",
    "                ]\n",
    "            ),\n",
    "        ],\n",
    "        [generate_random_point(points_bank[\"rb_ks_monza\"]) for _ in range(n)],\n",
    "    ),\n",
    "]"
   ]
  },
  {
   "cell_type": "code",
   "execution_count": 40,
   "id": "84e16758-8bd8-4328-90bc-446037c717bb",
   "metadata": {},
   "outputs": [
    {
     "ename": "SyntaxError",
     "evalue": "invalid syntax (annotation.py, line 76)",
     "output_type": "error",
     "traceback": [
      "Traceback \u001b[0;36m(most recent call last)\u001b[0m:\n",
      "  File \u001b[1;32m~/miniconda3/envs/bng/lib/python3.9/site-packages/IPython/core/interactiveshell.py:3397\u001b[0m in \u001b[1;35mrun_code\u001b[0m\n    exec(code_obj, self.user_global_ns, self.user_ns)\n",
      "  Input \u001b[1;32mIn [40]\u001b[0m in \u001b[1;35m<cell line: 2>\u001b[0m\n    importlib.reload(annotationscustom)\n",
      "  File \u001b[1;32m~/miniconda3/envs/bng/lib/python3.9/importlib/__init__.py:169\u001b[0m in \u001b[1;35mreload\u001b[0m\n    _bootstrap._exec(spec, module)\n",
      "  File \u001b[1;32m<frozen importlib._bootstrap>:613\u001b[0m in \u001b[1;35m_exec\u001b[0m\n",
      "  File \u001b[1;32m<frozen importlib._bootstrap_external>:846\u001b[0m in \u001b[1;35mexec_module\u001b[0m\n",
      "  File \u001b[1;32m<frozen importlib._bootstrap_external>:983\u001b[0m in \u001b[1;35mget_code\u001b[0m\n",
      "  File \u001b[1;32m<frozen importlib._bootstrap_external>:913\u001b[0m in \u001b[1;35msource_to_code\u001b[0m\n",
      "\u001b[0;36m  File \u001b[0;32m<frozen importlib._bootstrap>:228\u001b[0;36m in \u001b[0;35m_call_with_frames_removed\u001b[0;36m\u001b[0m\n",
      "\u001b[0;36m  File \u001b[0;32m~/dev/bngseg/bngseg/annotation.py:76\u001b[0;36m\u001b[0m\n\u001b[0;31m    return self.history.add(self.cars[car_counter].car)model, location, [cam() for cam in self.cars[car_counter].camera_positions])\u001b[0m\n\u001b[0m                                                       ^\u001b[0m\n\u001b[0;31mSyntaxError\u001b[0m\u001b[0;31m:\u001b[0m invalid syntax\n"
     ]
    }
   ],
   "source": [
    "import importlib\n",
    "importlib.reload(annotationscustom)"
   ]
  },
  {
   "cell_type": "markdown",
   "id": "890efcf4-714b-4c93-b4c4-053080225fbc",
   "metadata": {},
   "source": [
    "## Ensure annotation works"
   ]
  },
  {
   "cell_type": "code",
   "execution_count": null,
   "id": "1a796f0f-1829-43fa-aea3-d1b8dda257f2",
   "metadata": {},
   "outputs": [],
   "source": [
    "test = scenarios[0]\n",
    "test, car = bng.quick_scenario(bng, test.base_map, scenarios.cars[0].car_model, test.locations[0][0], test.locations[0][1])\n",
    "camera = test_car.attach_cameras([((-0.3, 1, 2), (0, -1, 0))], car)[0]\n",
    "bngseg.poll_and_show_images(camera)"
   ]
  },
  {
   "cell_type": "markdown",
   "id": "d7a2641c-bc15-4c3e-ada1-a91c6537cbfa",
   "metadata": {},
   "source": [
    "## Collect data (script)"
   ]
  },
  {
   "cell_type": "code",
   "execution_count": null,
   "id": "03d015b1-b055-47dc-8750-bcb7c87ae794",
   "metadata": {},
   "outputs": [],
   "source": [
    "# random cameras currently not supported, just takes first spec\n",
    "\n",
    "def gather_data(scenario, car, states, annotated=False):\n",
    "    last_car = None\n",
    "    i = 0\n",
    "    images = {}\n",
    "    for state in tqdm(states):\n",
    "        if state[0] != last_car:\n",
    "            scenario.remove_vehicle(car)\n",
    "            car = Vehicle(state[0], model=state[0])\n",
    "            scenario.add_vehicle(car, pos=state[1][0], rot_quat=state[1][1])\n",
    "            cameras = car.attach_cameras(state[2]) # random cameras not currently implemented\n",
    "            last_car = state[0]\n",
    "        else:\n",
    "            car.teleport(state[1][0], rot_quat=state[1][1])\n",
    "\n",
    "        for j, cam in enumerate(cameras):\n",
    "            base_image = cam.get_full_poll_request()[\n",
    "                \"colour\" if not annotated else \"annotation\"\n",
    "            ]\n",
    "            name = \"{}_{}\".format(i, j)\n",
    "            images[name] = base_image\n",
    "        i += 1\n",
    "    return images\n",
    "    \n",
    "\n",
    "s += 1\n",
    "for spec in (pbar := tqdm(scenarios, total=len(scenarios)):\n",
    "    pbar.set_description(f\"Processing {scenario.base_map}\")\n",
    "    \n",
    "    scenario, car = bng.quick_scenario(bng, spec.base_map, spec.cars[0].car_model, spec.locations[0][0], spec.locations[0][1])\n",
    "    base_images = gather_data(scenario, car, spec)\n",
    "    \n",
    "    scenario, car = bng.quick_scenario(bng, spec.annotated_map, spec.cars[0].car_model, spec.locations[0][0], spec.locations[0][1])\n",
    "    annotated_images = gather_data(scenario, car, spec.history.locations, annotated=True)\n",
    "\n",
    "    folder = bngseg.save_images(\n",
    "        bngseg.pair_images(base_images, annotated_images)\n",
    "    )\n",
    "\n",
    "    spec.history.save(folder)\n",
    "    \n",
    "\n",
    "        "
   ]
  },
  {
   "cell_type": "code",
   "execution_count": 35,
   "id": "f252bf5c-1413-4a8c-8e95-a01b4d0ac68f",
   "metadata": {},
   "outputs": [
    {
     "name": "stdout",
     "output_type": "stream",
     "text": [
      "[((0, 0, 0), (0, 0, 0, 0)), ((1, 1, 1), (1, 1, 1, 1))]\n",
      "0 0\n",
      "0 1\n",
      "1 0\n",
      "1 1\n"
     ]
    }
   ],
   "source": [
    "import bngseg.annotation as annotation\n",
    "\n",
    "n = 10\n",
    "scenarios = [\n",
    "    annotation.AnnotationScenario(\n",
    "        \"rb_ks_monza\", \n",
    "        \"rb_ks_monza_annotated\", [\n",
    "            annotation.AnnotationCar(\n",
    "                '2022__4_navaro_ssr_700_indycar', \n",
    "                [\n",
    "                    annotation.CameraPosition((-0.3, 1, 2), (0, -1, 0), (0, 0, 1)),\n",
    "                ]\n",
    "            ),\n",
    "            annotation.AnnotationCar(\n",
    "                'boliva', \n",
    "                [\n",
    "                    annotation.CameraPosition((-0.3, 1, 2), (0, -1, 0), (0, 0, 1)),\n",
    "                ]\n",
    "            ),\n",
    "        ],\n",
    "        # [generate_random_point(points_bank[\"rb_ks_monza\"]) for _ in range(n)],\n",
    "        [((0, 0, 0), (0, 0, 0, 0)), ((1, 1, 1), (1, 1, 1, 1))],\n",
    "    ),\n",
    "]"
   ]
  },
  {
   "cell_type": "code",
   "execution_count": 17,
   "id": "e3c0cb0f-523d-4003-9530-1aab13df14db",
   "metadata": {},
   "outputs": [
    {
     "name": "stdout",
     "output_type": "stream",
     "text": [
      "The autoreload extension is already loaded. To reload it, use:\n",
      "  %reload_ext autoreload\n"
     ]
    }
   ],
   "source": [
    "%load_ext autoreload\n",
    "%autoreload 2"
   ]
  },
  {
   "cell_type": "code",
   "execution_count": 47,
   "id": "85fe16bb-14f6-4e75-bd60-95dfb81608b2",
   "metadata": {},
   "outputs": [],
   "source": [
    "scenarios[0].history.save()"
   ]
  },
  {
   "cell_type": "code",
   "execution_count": 41,
   "id": "c8338e61-18e6-4494-a298-b7680c5370b3",
   "metadata": {},
   "outputs": [],
   "source": [
    "history = annotation.AnnotationScenarioHistory.load(\"rb_ks_monza_4\")"
   ]
  },
  {
   "cell_type": "code",
   "execution_count": 45,
   "id": "6cf57444-cc12-46fc-8edb-d308b8227220",
   "metadata": {},
   "outputs": [
    {
     "name": "stdout",
     "output_type": "stream",
     "text": [
      "[('2022__4_navaro_ssr_700_indycar', ((0, 0, 0), (0, 0, 0, 0)), [((-0.3, 1, 2), (0, -1, 0), (0, 0, 1), 70, (0.1, 1000), (224, 224))]), ('2022__4_navaro_ssr_700_indycar', ((1, 1, 1), (1, 1, 1, 1)), [((-0.3, 1, 2), (0, -1, 0), (0, 0, 1), 70, (0.1, 1000), (224, 224))]), ('boliva', ((0, 0, 0), (0, 0, 0, 0)), [((-0.3, 1, 2), (0, -1, 0), (0, 0, 1), 70, (0.1, 1000), (224, 224))]), ('boliva', ((1, 1, 1), (1, 1, 1, 1)), [((-0.3, 1, 2), (0, -1, 0), (0, 0, 1), 70, (0.1, 1000), (224, 224))])]\n"
     ]
    }
   ],
   "source": [
    "print(history.locations)"
   ]
  },
  {
   "cell_type": "code",
   "execution_count": null,
   "id": "ecf04734-cee4-42b9-babe-06b7db96b801",
   "metadata": {},
   "outputs": [],
   "source": []
  }
 ],
 "metadata": {
  "kernelspec": {
   "display_name": "Python 3 (ipykernel)",
   "language": "python",
   "name": "python3"
  },
  "language_info": {
   "codemirror_mode": {
    "name": "ipython",
    "version": 3
   },
   "file_extension": ".py",
   "mimetype": "text/x-python",
   "name": "python",
   "nbconvert_exporter": "python",
   "pygments_lexer": "ipython3",
   "version": "3.9.12"
  }
 },
 "nbformat": 4,
 "nbformat_minor": 5
}
